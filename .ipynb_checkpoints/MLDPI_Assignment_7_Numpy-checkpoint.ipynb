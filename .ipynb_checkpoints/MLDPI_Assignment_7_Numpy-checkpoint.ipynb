{
 "cells": [
  {
   "cell_type": "markdown",
   "metadata": {},
   "source": [
    "###                                          INEURON MLDPI ASSIGNMENT: 7_Numpy\n",
    "\n",
    "#### QUESTION 1\n",
    "Write a function so that the columns of the output matrix are powers of the input vector.\n",
    "\n",
    "The order of the powers is determined by the increasing boolean argument. Specifically, when\n",
    "increasing is False, the i-th output column is the input vector raised element-wise to the power\n",
    "of N - i - 1.\n",
    "\n",
    "HINT: Such a matrix with a geometric progression in each row is named for Alexandre-\n",
    "Theophile Vandermonde."
   ]
  },
  {
   "cell_type": "code",
   "execution_count": 1,
   "metadata": {},
   "outputs": [
    {
     "data": {
      "text/plain": [
       "matrix([[   1,    1,    1,    1,    1],\n",
       "        [   1,    3,    9,   27,   81],\n",
       "        [   1,    5,   25,  125,  625],\n",
       "        [   1,    7,   49,  343, 2401],\n",
       "        [   1,    9,   81,  729, 6561]])"
      ]
     },
     "execution_count": 1,
     "metadata": {},
     "output_type": "execute_result"
    }
   ],
   "source": [
    "# Soulution to Question 1\n",
    "\n",
    "import numpy as np\n",
    "\n",
    "#Creating function which will create Geometric progresison\n",
    "\n",
    "def Vandermondefunc(i_vec, n, increasing = False):\n",
    "    \"\"\" This function will build Alexandre-Theophile Vandermonde matrix\"\"\"\n",
    "    if increasing:\n",
    "        outmat = np.matrix([x**i for x in i_vec for i in range(n)]).reshape(i_vec.size, n)\n",
    "    else:\n",
    "        outmat = np.matrix([x**(n-i-1) for x in i_vec for i in range(n)]).reshape(i_vec.size, n)\n",
    "    return outmat\n",
    "\n",
    "i_vec = np.array([1,3,5,7,9])\n",
    "Vandermondefunc(i_vec, 5,True)"
   ]
  },
  {
   "cell_type": "markdown",
   "metadata": {},
   "source": [
    "#### QUESTION 2\n",
    "\n",
    "Write a function to find moving average in an array over a window:\n",
    "\n",
    "    Test it over [3, 5, 7, 2, 8, 10, 11, 65, 72, 81, 99, 100, 150] and window of 3."
   ]
  },
  {
   "cell_type": "code",
   "execution_count": 4,
   "metadata": {},
   "outputs": [
    {
     "name": "stdout",
     "output_type": "stream",
     "text": [
      "y1 5.0\n",
      "y2 4.67\n",
      "y3 5.67\n",
      "y4 6.67\n",
      "y5 9.67\n",
      "y6 28.67\n",
      "y7 49.33\n",
      "y8 72.67\n",
      "y9 84.0\n",
      "y10 93.33\n",
      "y11 116.33\n"
     ]
    }
   ],
   "source": [
    "# Solution\n",
    "\n",
    "# Define function to calculate moving average in an array owver window\n",
    "def m_avg(seq, k):\n",
    "    \"\"\"This function will return moving averages in an array \"\"\"\n",
    "    n = len(seq)-k+1   # The moving average sequence has n-k+1 elements \n",
    "    for i in range(n):\n",
    "        sum1 = 0\n",
    "        for j in range(k):\n",
    "            sum1 += seq[i+j]\n",
    "        print(f'y{str(i+1)}',round(sum1/k,2))\n",
    "\n",
    "seq = [3, 5, 7, 2, 8, 10, 11, 65, 72, 81, 99, 100, 150]\n",
    "m_avg(seq,3)"
   ]
  },
  {
   "cell_type": "code",
   "execution_count": null,
   "metadata": {},
   "outputs": [],
   "source": []
  },
  {
   "cell_type": "code",
   "execution_count": null,
   "metadata": {},
   "outputs": [],
   "source": []
  },
  {
   "cell_type": "code",
   "execution_count": null,
   "metadata": {},
   "outputs": [],
   "source": []
  },
  {
   "cell_type": "code",
   "execution_count": null,
   "metadata": {},
   "outputs": [],
   "source": []
  }
 ],
 "metadata": {
  "kernelspec": {
   "display_name": "Python 3",
   "language": "python",
   "name": "python3"
  },
  "language_info": {
   "codemirror_mode": {
    "name": "ipython",
    "version": 3
   },
   "file_extension": ".py",
   "mimetype": "text/x-python",
   "name": "python",
   "nbconvert_exporter": "python",
   "pygments_lexer": "ipython3",
   "version": "3.8.5"
  }
 },
 "nbformat": 4,
 "nbformat_minor": 4
}
