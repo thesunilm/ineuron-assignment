{
 "cells": [
  {
   "cell_type": "markdown",
   "metadata": {},
   "source": [
    "### INEURON MLDPI ASSIGNMENT: 4\n",
    "\n",
    "###### QUESTION 1.1:\n",
    "Write a Python Program(with class concepts) to find the area of the triangle using the below\n",
    "formula.\n",
    "area = (s*(s-a)*(s-b)*(s-c)) *** 0.5\n",
    "Function to take the length of the sides of triangle from user should be defined in the parent\n",
    "class and function to calculate the area should be defined in subclass."
   ]
  },
  {
   "cell_type": "code",
   "execution_count": 66,
   "metadata": {},
   "outputs": [
    {
     "name": "stdout",
     "output_type": "stream",
     "text": [
      "Enter triangle side a: 1\n",
      "Enter triangle side b: 1\n",
      "Enter triangle side c: 1\n"
     ]
    },
    {
     "data": {
      "text/plain": [
       "'Area of traingle is 0.433 cm²'"
      ]
     },
     "execution_count": 66,
     "metadata": {},
     "output_type": "execute_result"
    }
   ],
   "source": [
    "# Solution:\n",
    "\n",
    "class Triangle():                                 # Creating object triangle which takes input for sides\n",
    "    def __init__(self):\n",
    "        self.a = int(input(\"Enter triangle side a: \"))\n",
    "        self.b = int(input(\"Enter triangle side b: \"))\n",
    "        self.c = int(input(\"Enter triangle side c: \"))\n",
    "\n",
    "class Area(Triangle):                             # Sub-class/child class which inherit class Triangle()\n",
    "    def area(self):                               \n",
    "        s = (self.a + self.b + self.c)/2\n",
    "        area=float((s*(s-self.a)*(s-self.b)*(s-self.c))**0.5)\n",
    "        return f\"Area of traingle is {area:.3f} cm\\u00b2\"\n",
    "        \n",
    "\n",
    "A_triangle = Area()\n",
    "A_triangle.area()"
   ]
  },
  {
   "cell_type": "markdown",
   "metadata": {},
   "source": [
    "###### QUESTION 1.2:\n",
    "Write a function filter_long_words() that takes a list of words and an integer n and returns\n",
    "the list of words that are longer than n."
   ]
  },
  {
   "cell_type": "code",
   "execution_count": 37,
   "metadata": {},
   "outputs": [
    {
     "name": "stdout",
     "output_type": "stream",
     "text": [
      "['Random Forest', 'Clustering', 'Predictive']\n"
     ]
    }
   ],
   "source": [
    "def filter_long_words(a, n):\n",
    "    long_words = []\n",
    "    for i in a:\n",
    "        if len(i)>n:\n",
    "            long_words.append(i)\n",
    "        else:\n",
    "            pass\n",
    "    return long_words\n",
    "\n",
    "a = [\"ML\", \"AI\", \"Random Forest\", \"LR\", \"Clustering\", \"Chi\", \"Predictive\"]\n",
    "\n",
    "print(filter_long_words(a, 3))\n",
    "\n",
    "    "
   ]
  },
  {
   "cell_type": "markdown",
   "metadata": {},
   "source": [
    "###### QUESTION 2.1:\n",
    "Write a Python program using function concept that maps list of words into a list of integers\n",
    "representing the lengths of the corresponding words.\n",
    "\n",
    "Hint: If a list [ ab,cde,erty] is passed on to the python function output should come as [2,3,4]\n",
    "Here 2,3 and 4 are the lengths of the words in the list."
   ]
  },
  {
   "cell_type": "code",
   "execution_count": 41,
   "metadata": {},
   "outputs": [
    {
     "data": {
      "text/plain": [
       "[2, 2, 13, 2, 10, 3, 10]"
      ]
     },
     "execution_count": 41,
     "metadata": {},
     "output_type": "execute_result"
    }
   ],
   "source": [
    "def word_len(a):\n",
    "    return len(a)\n",
    "\n",
    "word_list = [\"ML\", \"AI\", \"Random Forest\", \"LR\", \"Clustering\", \"Chi\", \"Predictive\"]\n",
    "\n",
    "list_word_len = list(map(word_len, word_list))\n",
    "\n",
    "list_word_len"
   ]
  },
  {
   "cell_type": "markdown",
   "metadata": {},
   "source": [
    "###### QUESTION 2.2:\n",
    "Write a Python function which takes a character (i.e. a string of length 1) and returns True if\n",
    "it is a vowel, False otherwise."
   ]
  },
  {
   "cell_type": "code",
   "execution_count": 53,
   "metadata": {},
   "outputs": [
    {
     "name": "stdout",
     "output_type": "stream",
     "text": [
      "Enter a character: b\n"
     ]
    },
    {
     "data": {
      "text/plain": [
       "False"
      ]
     },
     "execution_count": 53,
     "metadata": {},
     "output_type": "execute_result"
    }
   ],
   "source": [
    "def is_vowel(a):\n",
    "    if (a in ['a','e','i','o']):\n",
    "        return True\n",
    "    else:\n",
    "        return False\n",
    "    \n",
    "is_vowel(input(\"Enter a character: \"))"
   ]
  },
  {
   "cell_type": "code",
   "execution_count": null,
   "metadata": {},
   "outputs": [],
   "source": []
  },
  {
   "cell_type": "code",
   "execution_count": null,
   "metadata": {},
   "outputs": [],
   "source": []
  },
  {
   "cell_type": "code",
   "execution_count": null,
   "metadata": {},
   "outputs": [],
   "source": []
  },
  {
   "cell_type": "code",
   "execution_count": null,
   "metadata": {},
   "outputs": [],
   "source": []
  },
  {
   "cell_type": "code",
   "execution_count": null,
   "metadata": {},
   "outputs": [],
   "source": []
  },
  {
   "cell_type": "code",
   "execution_count": null,
   "metadata": {},
   "outputs": [],
   "source": []
  }
 ],
 "metadata": {
  "kernelspec": {
   "display_name": "Python 3",
   "language": "python",
   "name": "python3"
  },
  "language_info": {
   "codemirror_mode": {
    "name": "ipython",
    "version": 3
   },
   "file_extension": ".py",
   "mimetype": "text/x-python",
   "name": "python",
   "nbconvert_exporter": "python",
   "pygments_lexer": "ipython3",
   "version": "3.8.5"
  }
 },
 "nbformat": 4,
 "nbformat_minor": 4
}
